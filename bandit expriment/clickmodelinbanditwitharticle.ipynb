{
 "cells": [
  {
   "cell_type": "code",
   "execution_count": 1,
   "metadata": {
    "collapsed": true
   },
   "outputs": [],
   "source": [
    "import numpy as np\n",
    "import pandas as pd\n",
    "from pandas import Series, DataFrame, Panel\n",
    "import csv\n",
    "import matplotlib.pyplot as plt\n",
    "from collections import Counter\n",
    "import sklearn\n",
    "import seaborn as sns\n",
    "from sklearn import metrics\n",
    "from sklearn.metrics import roc_curve\n",
    "from sklearn.metrics import log_loss\n",
    "import datetime\n",
    "import random\n",
    "from collections import defaultdict\n",
    "from numpy import isnan"
   ]
  },
  {
   "cell_type": "markdown",
   "metadata": {},
   "source": [
    "### Glogal features"
   ]
  },
  {
   "cell_type": "code",
   "execution_count": 2,
   "metadata": {
    "collapsed": true
   },
   "outputs": [],
   "source": [
    "impression = pd.read_pickle('../data/processed/joined_impressions.pkl').fillna(0)"
   ]
  },
  {
   "cell_type": "code",
   "execution_count": 3,
   "metadata": {
    "collapsed": true
   },
   "outputs": [],
   "source": [
    "impression['date'] = impression['impressionTimestamp'].dt.date"
   ]
  },
  {
   "cell_type": "code",
   "execution_count": 4,
   "metadata": {
    "collapsed": true
   },
   "outputs": [],
   "source": [
    "articles = pd.read_pickle('../data/processed/articles.pkl')"
   ]
  },
  {
   "cell_type": "code",
   "execution_count": 5,
   "metadata": {
    "collapsed": true
   },
   "outputs": [],
   "source": [
    "satisfiedlist = []\n",
    "for i in list(impression.maxDuration):\n",
    "    if i >= 10000:\n",
    "        satisfiedlist.append(1)\n",
    "    else:\n",
    "        satisfiedlist.append(0)\n",
    "\n",
    "impression['satisfiedlist'] = satisfiedlist        \n",
    "    "
   ]
  },
  {
   "cell_type": "code",
   "execution_count": 6,
   "metadata": {
    "collapsed": true
   },
   "outputs": [],
   "source": [
    "category_flatten = [val for sublist in articles.categories.values for val in sublist]\n",
    "\n",
    "category_flatten = list(set(category_flatten))"
   ]
  },
  {
   "cell_type": "code",
   "execution_count": 7,
   "metadata": {
    "collapsed": true
   },
   "outputs": [],
   "source": [
    "rich_impression = impression.merge(articles, left_on=\"contentId\",right_on=\"id\")"
   ]
  },
  {
   "cell_type": "code",
   "execution_count": 8,
   "metadata": {
    "collapsed": true
   },
   "outputs": [],
   "source": [
    "from sklearn import preprocessing\n",
    "from itertools import chain\n",
    "\n",
    "def columns_to_key_feature_pairs(row, key_column, feature_columns):\n",
    "    return [(row[key_column], '{}={}'.format(column, row[column])) for column in feature_columns]\n",
    "\n",
    "def array_column_to_key_feature_pairs(row, key_column, array_column):\n",
    "    return [(row[key_column], u'{}={}'.format(array_column, value)) for value in row[array_column]]\n",
    "\n",
    "feature_columns = ['id', 'hotness', 'lifetime']\n",
    "\n",
    "item_features = pd.DataFrame.from_records(\n",
    "    data=chain.from_iterable(\n",
    "        columns_to_key_feature_pairs(row, key_column='id', feature_columns=feature_columns) +\\\n",
    "        array_column_to_key_feature_pairs(row, key_column='id', array_column='categories') +\\\n",
    "        array_column_to_key_feature_pairs(row, key_column='id', array_column='tags')\n",
    "        for _, row in articles.iterrows()), \n",
    "    columns=['item', 'feature_name'],\n",
    "    index='item')\n",
    "\n",
    "#item_features.head()"
   ]
  },
  {
   "cell_type": "code",
   "execution_count": 9,
   "metadata": {
    "collapsed": true
   },
   "outputs": [],
   "source": [
    "max_position = impression.contentPosition.max()\n",
    "content_positions = np.arange(max_position+1)\n",
    "\n",
    "context_features = pd.DataFrame.from_dict(\n",
    "    {'contentPosition': content_positions, 'feature_name': ['position={}'.format(p) for p in content_positions]}\n",
    ").set_index('contentPosition')\n",
    "\n",
    "#context_features"
   ]
  },
  {
   "cell_type": "code",
   "execution_count": 10,
   "metadata": {
    "collapsed": true
   },
   "outputs": [],
   "source": [
    "all_features = pd.concat([item_features, context_features],axis=0)\n",
    "\n",
    "all_features.feature_name = all_features.feature_name.astype('category')\n",
    "all_features['encoded_feature'] = all_features.feature_name.cat.codes\n",
    "\n",
    "#all_features.head()"
   ]
  },
  {
   "cell_type": "markdown",
   "metadata": {},
   "source": [
    "### user with category"
   ]
  },
  {
   "cell_type": "code",
   "execution_count": 11,
   "metadata": {
    "collapsed": true
   },
   "outputs": [],
   "source": [
    "environmentlist = list(set(rich_impression[\"environmentId\"].values))"
   ]
  },
  {
   "cell_type": "code",
   "execution_count": 12,
   "metadata": {
    "collapsed": true
   },
   "outputs": [],
   "source": [
    "grouped = rich_impression.groupby([\"environmentId\"])\n",
    "dic = {}\n",
    "for item in environmentlist:\n",
    "    l = grouped.get_group(item)[\"categories\"].tolist()\n",
    "    flatten =  list(set([item for sublist in l for item in sublist]))\n",
    "    dic[item] = flatten\n",
    "    \n",
    "    "
   ]
  },
  {
   "cell_type": "code",
   "execution_count": 13,
   "metadata": {
    "collapsed": true
   },
   "outputs": [],
   "source": [
    "userinfor = pd.DataFrame({\"environmentid\": list(dic.keys()),\"category\": list(dic.values())})\n",
    "\n",
    "flat_userinfor = pd.DataFrame(\n",
    "    data=[(index, category)\n",
    "         for index, row in userinfor.iterrows()\n",
    "         for category in row.category],\n",
    "    columns=['index', 'category']).set_index(\"index\")"
   ]
  },
  {
   "cell_type": "markdown",
   "metadata": {},
   "source": [
    "### we cluster different users into 20 groups based on interests"
   ]
  },
  {
   "cell_type": "code",
   "execution_count": 14,
   "metadata": {
    "collapsed": true
   },
   "outputs": [],
   "source": [
    "from sklearn.preprocessing import LabelEncoder \n",
    "\n",
    "from scipy import sparse\n",
    "\n",
    "import scipy.sparse as sp\n",
    "\n",
    "def feature_matrix(rich_impressions, column_name):\n",
    "    \n",
    "    category_encoder = LabelEncoder()\n",
    "\n",
    "    rich_impressions = rich_impressions.assign(encoded_column=lambda df: category_encoder.fit_transform(df[column_name]))\n",
    "\n",
    "    row_indexes = rich_impressions.index.values    \n",
    "    column_indexes = rich_impressions.encoded_column.values\n",
    "    \n",
    "    output = sparse.coo_matrix(\n",
    "        (np.ones_like(column_indexes), \n",
    "        (row_indexes, column_indexes)))    \n",
    "    \n",
    "    return output\n",
    "    "
   ]
  },
  {
   "cell_type": "code",
   "execution_count": 15,
   "metadata": {
    "collapsed": true
   },
   "outputs": [],
   "source": [
    "from sklearn.preprocessing import OneHotEncoder\n",
    "\n",
    "def singletag(mergedate, name):\n",
    "    \n",
    "    enc = OneHotEncoder()\n",
    "\n",
    "    X = enc.fit_transform(mergedate[[name]].values)\n",
    "    \n",
    "    #result = X.toarray()\n",
    "    \n",
    "    return X\n",
    "    "
   ]
  },
  {
   "cell_type": "code",
   "execution_count": 16,
   "metadata": {
    "collapsed": true
   },
   "outputs": [],
   "source": [
    "\n",
    "from sklearn.cluster import KMeans  \n",
    "\n",
    "def kmeans(X, n_clusters):\n",
    "\n",
    "    labeler = KMeans(n_clusters) \n",
    "\n",
    "    labeler.fit(X.tocsr())  \n",
    "    \n",
    "    return labeler\n"
   ]
  },
  {
   "cell_type": "code",
   "execution_count": 17,
   "metadata": {
    "collapsed": true
   },
   "outputs": [],
   "source": [
    "def indices( mylist, value):\n",
    "    return [i for i,x in enumerate(mylist) if x==value]\n"
   ]
  },
  {
   "cell_type": "code",
   "execution_count": 18,
   "metadata": {
    "collapsed": true
   },
   "outputs": [],
   "source": [
    "X_user = feature_matrix(flat_userinfor, \"category\")\n",
    "\n",
    "labeler = kmeans(X_user, 20)\n"
   ]
  },
  {
   "cell_type": "markdown",
   "metadata": {},
   "source": [
    "### Select just one groups to do the experient"
   ]
  },
  {
   "cell_type": "code",
   "execution_count": 744,
   "metadata": {
    "collapsed": true
   },
   "outputs": [],
   "source": [
    "index_6 = indices(labeler.labels_,19)"
   ]
  },
  {
   "cell_type": "markdown",
   "metadata": {},
   "source": [
    "### Find rich_impression  data set for each group"
   ]
  },
  {
   "cell_type": "code",
   "execution_count": 745,
   "metadata": {
    "collapsed": true
   },
   "outputs": [],
   "source": [
    "def grouped_rich_impression(indexlist, userinfor, rich_impression):\n",
    "    idx = userinfor.index.isin(indexlist)\n",
    "    groupeduserinf = userinfor[idx]\n",
    "    groupedenvironment = groupeduserinf.environmentid.values.tolist()\n",
    "    im_idx = rich_impression.environmentId.isin(groupedenvironment)\n",
    "    group_rich_impression = rich_impression[im_idx]\n",
    "    return groupeduserinf,group_rich_impression\n",
    "    "
   ]
  },
  {
   "cell_type": "code",
   "execution_count": 746,
   "metadata": {
    "collapsed": true
   },
   "outputs": [],
   "source": [
    "groupeduserinf,grouped_rich_impression = grouped_rich_impression(index_6, userinfor, rich_impression)\n",
    "\n"
   ]
  },
  {
   "cell_type": "markdown",
   "metadata": {},
   "source": [
    "### There are seven days, we can seen as seven frontpages"
   ]
  },
  {
   "cell_type": "code",
   "execution_count": 747,
   "metadata": {
    "collapsed": true
   },
   "outputs": [],
   "source": [
    "def CTRforday(grouped_rich_impression):\n",
    "\n",
    "    up = grouped_rich_impression.groupby([\"date\"]).aggregate({\"isClicked\":sum})\n",
    "    \n",
    "    down = grouped_rich_impression.groupby([\"date\"]).aggregate({\"isClicked\":len})\n",
    "    \n",
    "    CTR = up.isClicked.values/down.isClicked.values\n",
    "    \n",
    "    up[\"CTR\"] = CTR\n",
    "    \n",
    "    result = up.sort(columns=\"CTR\")\n",
    "    \n",
    "    return result"
   ]
  },
  {
   "cell_type": "code",
   "execution_count": 748,
   "metadata": {},
   "outputs": [
    {
     "name": "stderr",
     "output_type": "stream",
     "text": [
      "/Users/XiHUANG/anaconda/lib/python3.5/site-packages/ipykernel/__main__.py:11: FutureWarning: sort(columns=....) is deprecated, use sort_values(by=.....)\n"
     ]
    },
    {
     "data": {
      "text/html": [
       "<div>\n",
       "<table border=\"1\" class=\"dataframe\">\n",
       "  <thead>\n",
       "    <tr style=\"text-align: right;\">\n",
       "      <th></th>\n",
       "      <th>isClicked</th>\n",
       "      <th>CTR</th>\n",
       "    </tr>\n",
       "    <tr>\n",
       "      <th>date</th>\n",
       "      <th></th>\n",
       "      <th></th>\n",
       "    </tr>\n",
       "  </thead>\n",
       "  <tbody>\n",
       "    <tr>\n",
       "      <th>2017-06-18</th>\n",
       "      <td>322.0</td>\n",
       "      <td>0.029801</td>\n",
       "    </tr>\n",
       "    <tr>\n",
       "      <th>2017-06-14</th>\n",
       "      <td>90.0</td>\n",
       "      <td>0.040089</td>\n",
       "    </tr>\n",
       "    <tr>\n",
       "      <th>2017-06-17</th>\n",
       "      <td>306.0</td>\n",
       "      <td>0.040121</td>\n",
       "    </tr>\n",
       "    <tr>\n",
       "      <th>2017-06-13</th>\n",
       "      <td>79.0</td>\n",
       "      <td>0.042405</td>\n",
       "    </tr>\n",
       "    <tr>\n",
       "      <th>2017-06-19</th>\n",
       "      <td>91.0</td>\n",
       "      <td>0.047028</td>\n",
       "    </tr>\n",
       "    <tr>\n",
       "      <th>2017-06-16</th>\n",
       "      <td>91.0</td>\n",
       "      <td>0.047669</td>\n",
       "    </tr>\n",
       "    <tr>\n",
       "      <th>2017-06-15</th>\n",
       "      <td>80.0</td>\n",
       "      <td>0.049813</td>\n",
       "    </tr>\n",
       "  </tbody>\n",
       "</table>\n",
       "</div>"
      ],
      "text/plain": [
       "            isClicked       CTR\n",
       "date                           \n",
       "2017-06-18      322.0  0.029801\n",
       "2017-06-14       90.0  0.040089\n",
       "2017-06-17      306.0  0.040121\n",
       "2017-06-13       79.0  0.042405\n",
       "2017-06-19       91.0  0.047028\n",
       "2017-06-16       91.0  0.047669\n",
       "2017-06-15       80.0  0.049813"
      ]
     },
     "execution_count": 748,
     "metadata": {},
     "output_type": "execute_result"
    }
   ],
   "source": [
    "result = CTRforday(grouped_rich_impression) \n",
    "\n",
    "result"
   ]
  },
  {
   "cell_type": "markdown",
   "metadata": {},
   "source": [
    "### caculate the initial action value for each category"
   ]
  },
  {
   "cell_type": "code",
   "execution_count": 749,
   "metadata": {
    "collapsed": true
   },
   "outputs": [],
   "source": [
    "def CTRperCategory(impression,  all_features):\n",
    "    \n",
    "    batch_impressions = impression[['frontPageViewId','environmentId','contentPosition', 'contentId', 'isClicked','date','satisfiedlist']]\\\n",
    "        .assign(sample_id=lambda df: np.arange(df.shape[0]))\\\n",
    "        .set_index('sample_id')\n",
    "\n",
    "    featurelize_impressions = pd.concat([\n",
    "        #pd.merge(batch_impressions, all_features, left_on='environmentId', right_index=True),\n",
    "        pd.merge(batch_impressions, all_features, left_on='contentId', right_index=True),\n",
    "        pd.merge(batch_impressions, all_features, left_on='contentPosition', right_index=True)],\n",
    "        axis=0).sort_index()\n",
    "    \n",
    "    featurelize_impressions = featurelize_impressions[featurelize_impressions.feature_name.str.startswith('cat')]\n",
    "\n",
    "    featurelize_impressions = featurelize_impressions.fillna(0)\n",
    "   \n",
    "    up = featurelize_impressions.groupby([\"feature_name\"]).aggregate({\"isClicked\":sum}) \n",
    "    \n",
    "    down = featurelize_impressions.groupby([\"feature_name\"]).aggregate({\"isClicked\":len})\n",
    "    \n",
    "    CTR = up.isClicked.values/down.isClicked.values\n",
    "    \n",
    "    up[\"CTR\"] = CTR\n",
    "    \n",
    "    result = up[\"CTR\"].to_dict()\n",
    "    \n",
    "   \n",
    "    \n",
    "    return featurelize_impressions, result\n",
    "    "
   ]
  },
  {
   "cell_type": "code",
   "execution_count": 750,
   "metadata": {
    "collapsed": true
   },
   "outputs": [],
   "source": [
    "featurelize_impressions,Q_0 = CTRperCategory(grouped_rich_impression,  all_features)"
   ]
  },
  {
   "cell_type": "markdown",
   "metadata": {},
   "source": [
    "### Caculate the initial CTR value for each content"
   ]
  },
  {
   "cell_type": "markdown",
   "metadata": {},
   "source": [
    "### CCM"
   ]
  },
  {
   "cell_type": "code",
   "execution_count": 751,
   "metadata": {
    "collapsed": true
   },
   "outputs": [],
   "source": [
    "def sat(dataset):\n",
    "    \n",
    "    up = featurelize_impressions.groupby([\"feature_name\"]).aggregate({\"satisfiedlist\":sum})\n",
    "    \n",
    "    down = featurelize_impressions.groupby([\"feature_name\"]).aggregate({\"isClicked\":sum})\n",
    "    \n",
    "    up[\"sat\"] = up.satisfiedlist.values/down.isClicked.values\n",
    "    \n",
    "    result = up.fillna(0)\n",
    "    \n",
    "    result = result.reset_index()\n",
    "    \n",
    "    result = result.set_index(\"feature_name\")[\"sat\"].to_dict()\n",
    "    \n",
    "    return result"
   ]
  },
  {
   "cell_type": "code",
   "execution_count": 752,
   "metadata": {
    "collapsed": true
   },
   "outputs": [],
   "source": [
    "sat_prob = sat(grouped_rich_impression)"
   ]
  },
  {
   "cell_type": "markdown",
   "metadata": {},
   "source": [
    "### tua probability calculate"
   ]
  },
  {
   "cell_type": "code",
   "execution_count": 753,
   "metadata": {
    "collapsed": true
   },
   "outputs": [],
   "source": [
    "shrinkdataset = grouped_rich_impression[[\"frontPageViewId\",\"contentPosition\",\"contentId\",\"satisfiedlist\",\"isClicked\"]]"
   ]
  },
  {
   "cell_type": "code",
   "execution_count": 754,
   "metadata": {
    "collapsed": true
   },
   "outputs": [],
   "source": [
    "\n",
    "\n",
    "def tua_inf(newtua_impression):\n",
    "    \n",
    "    #newtua_impression = grouped_rich_impression[[\"frontPageViewId\",\"contentPosition\",\"contentId\",\"satisfiedlist\",\"isClicked\"]]\n",
    "    \n",
    "    #down = len(set(process_dataset.frontPageViewId.values))\n",
    "    \n",
    "    idx  = newtua_impression.groupby(['frontPageViewId'])[\"contentPosition\"].transform(max) == newtua_impression[\"contentPosition\"]\n",
    "\n",
    "    newtua_impression = newtua_impression[idx]\n",
    "    \n",
    "    count = Counter(newtua_impression.contentPosition.values)\n",
    "    \n",
    "    a = list(count.values())\n",
    "    \n",
    "    n = len(a)\n",
    "    \n",
    "    examination_inf = {}\n",
    "    \n",
    "    for i in range(len(a)):\n",
    "   \n",
    "        examination_inf[i+1] = sum(a[i:n])\n",
    "    \n",
    "    temp = list( examination_inf.values())\n",
    "    \n",
    "    tua_probability = {}\n",
    "    for i in range(1,62):\n",
    "         tua_probability[i] = 0\n",
    "    \n",
    "    \n",
    "    \n",
    "    tua_probability[1] = 1\n",
    "    \n",
    "    for i in range(len(a)):\n",
    "        if i == 0:\n",
    "            tua_probability[i+1] = 0\n",
    "        else:\n",
    "            tua_probability[i+1] = temp[i]/temp[i-1]\n",
    "\n",
    "\n",
    "    return  tua_probability\n",
    "    \n",
    "\n",
    "    "
   ]
  },
  {
   "cell_type": "code",
   "execution_count": 755,
   "metadata": {
    "collapsed": true
   },
   "outputs": [],
   "source": [
    "dataset = shrinkdataset[((shrinkdataset['satisfiedlist'] == 0) & (shrinkdataset['isClicked'] == 0))]\n",
    "\n",
    "tua_s0c0 = tua_inf(dataset) # = tua 1\n",
    "\n",
    "#tua_s0c0"
   ]
  },
  {
   "cell_type": "code",
   "execution_count": 756,
   "metadata": {},
   "outputs": [],
   "source": [
    "dataset = shrinkdataset[((shrinkdataset['satisfiedlist'] == 0) & (shrinkdataset['isClicked'] == 1))]\n",
    "\n",
    "tua_s0c1 = tua_inf(dataset)\n",
    "\n",
    "#tua_s0c1"
   ]
  },
  {
   "cell_type": "code",
   "execution_count": 757,
   "metadata": {},
   "outputs": [],
   "source": [
    "dataset = shrinkdataset[((shrinkdataset['satisfiedlist'] == 1) & (shrinkdataset['isClicked'] == 1))]\n",
    "\n",
    "tua_s1c1 = tua_inf(dataset)\n",
    "\n",
    "#tua_s1c1"
   ]
  },
  {
   "cell_type": "markdown",
   "metadata": {},
   "source": [
    "### /epsilon greedy Bandit/Qlearning"
   ]
  },
  {
   "cell_type": "code",
   "execution_count": 758,
   "metadata": {
    "collapsed": true
   },
   "outputs": [],
   "source": [
    "parameter_threshold = 0.6\n",
    "parameter_alpha = 0.15\n",
    "epsilon = 0\n",
    "countdic = defaultdict(int)\n",
    "new_frontpage = pd.DataFrame()\n",
    "#sat_state = []\n",
    "#click_state = []\n",
    "\n",
    "position = 1\n",
    "\n",
    "def rewardactionfun(Q,sat_prob,examination,epsilon):\n",
    "    \n",
    "    if random.random() > epsilon:\n",
    "        d = dict((k, v) for k, v in Q.items() if v == max(Q.values()))\n",
    "        action = random.choice(list(d.keys()))\n",
    "    else:\n",
    "        action = random.choice(list(Q.keys()))\n",
    "\n",
    "    reward = sat_prob[action]*examination\n",
    "    return action,reward"
   ]
  },
  {
   "cell_type": "code",
   "execution_count": 759,
   "metadata": {
    "collapsed": true
   },
   "outputs": [],
   "source": [
    "action,reward = rewardactionfun(Q_0,sat_prob,1,epsilon)\n",
    "countdic[action]+=1"
   ]
  },
  {
   "cell_type": "code",
   "execution_count": 760,
   "metadata": {
    "collapsed": true
   },
   "outputs": [],
   "source": [
    "\n",
    "\n",
    "def stateidentify(satvalue,reward):\n",
    "   \n",
    "    if(satvalue >= parameter_threshold):\n",
    "        #sat_state.append(1)\n",
    "        sat_state = 1\n",
    "    else:\n",
    "\n",
    "        #sat_state.append(0)\n",
    "        sat_state = 0\n",
    "\n",
    "    if(reward >= parameter_threshold):\n",
    "        #click_state.append(1)\n",
    "        click_state = 1\n",
    "    else:\n",
    "        #click_state(0)\n",
    "        click_state = 0\n",
    "    return click_state,sat_state\n",
    "\n",
    "click_state,sat_state = stateidentify(sat_prob[action],reward)\n",
    "\n"
   ]
  },
  {
   "cell_type": "code",
   "execution_count": 761,
   "metadata": {
    "collapsed": true
   },
   "outputs": [],
   "source": [
    "new_frontpage= pd.DataFrame({\"position\":[position], \"context\":action,\"sat\":[sat_state],\"reward\":[reward],\"click\":[click_state]})"
   ]
  },
  {
   "cell_type": "code",
   "execution_count": 762,
   "metadata": {},
   "outputs": [
    {
     "data": {
      "text/html": [
       "<div>\n",
       "<table border=\"1\" class=\"dataframe\">\n",
       "  <thead>\n",
       "    <tr style=\"text-align: right;\">\n",
       "      <th></th>\n",
       "      <th>click</th>\n",
       "      <th>context</th>\n",
       "      <th>position</th>\n",
       "      <th>reward</th>\n",
       "      <th>sat</th>\n",
       "    </tr>\n",
       "  </thead>\n",
       "  <tbody>\n",
       "    <tr>\n",
       "      <th>0</th>\n",
       "      <td>1</td>\n",
       "      <td>categories= sulten</td>\n",
       "      <td>1</td>\n",
       "      <td>1.0</td>\n",
       "      <td>1</td>\n",
       "    </tr>\n",
       "  </tbody>\n",
       "</table>\n",
       "</div>"
      ],
      "text/plain": [
       "   click             context  position  reward  sat\n",
       "0      1  categories= sulten         1     1.0    1"
      ]
     },
     "execution_count": 762,
     "metadata": {},
     "output_type": "execute_result"
    }
   ],
   "source": [
    "new_frontpage"
   ]
  },
  {
   "cell_type": "code",
   "execution_count": 763,
   "metadata": {
    "collapsed": true
   },
   "outputs": [],
   "source": [
    "def actionvalueupdate(alpha,action,reward,Q,count):\n",
    "    copy_Q = Q\n",
    "    old_Q = copy_Q[action]\n",
    "    Q[action] = (old_Q + alpha*(reward-old_Q))/count\n",
    "    Q = {k: Q[k] for k in Q if not isnan(Q[k])}\n",
    "    \n",
    "    return Q"
   ]
  },
  {
   "cell_type": "code",
   "execution_count": 764,
   "metadata": {
    "collapsed": true
   },
   "outputs": [],
   "source": [
    "Q = actionvalueupdate(parameter_alpha,action,reward,Q_0,countdic[action])"
   ]
  },
  {
   "cell_type": "code",
   "execution_count": 765,
   "metadata": {
    "collapsed": true
   },
   "outputs": [],
   "source": [
    "def examinationfunc(position,pre_sat_state,pre_click_state):\n",
    "    \n",
    "    if pre_sat_state == 1 and pre_click_state == 1:\n",
    "        return tua_s1c1[position]\n",
    "    if pre_sat_state == 0 and pre_click_state == 1:\n",
    "        return tua_s0c1[position]\n",
    "    if pre_sat_state == 0 and pre_click_state == 0:\n",
    "        return tua_s0c0[position]\n",
    "    if pre_sat_state == 1 and pre_click_state == 0:\n",
    "        return 0\n",
    "        \n",
    "  \n",
    "    \n",
    "     \n",
    "    \n",
    "  "
   ]
  },
  {
   "cell_type": "code",
   "execution_count": 766,
   "metadata": {},
   "outputs": [],
   "source": [
    "position=2\n",
    "while(position <= 61):\n",
    "    #print(position)\n",
    "    Q_pre = Q\n",
    "    #print(Q_pre)\n",
    "    #print(sat_state)\n",
    "    #print(click_state)\n",
    "    examination = examinationfunc(position,sat_state,click_state)\n",
    "    #print(examination)\n",
    "    if examination == 0:\n",
    "        break\n",
    "    else:\n",
    "   \n",
    "        action,reward = rewardactionfun(Q_pre,sat_prob,examination,epsilon)\n",
    "        #print(action)\n",
    "        #print(reward)\n",
    "        countdic[action] += 1\n",
    "        click_state,sat_state = stateidentify(sat_prob[action],reward)\n",
    "        #print(click_state)\n",
    "        #print(sat_state)\n",
    "        new_frontpage = new_frontpage.append(pd.DataFrame({\"position\":[position], \"context\":action,\"sat\":[sat_state],\"reward\":[reward],\"click\":[click_state]}))\n",
    "        Q = actionvalueupdate(parameter_alpha,action,reward,Q_pre,countdic[action])\n",
    "        position+=1\n",
    "       \n",
    "    "
   ]
  },
  {
   "cell_type": "code",
   "execution_count": 767,
   "metadata": {},
   "outputs": [
    {
     "data": {
      "text/plain": [
       "4"
      ]
     },
     "execution_count": 767,
     "metadata": {},
     "output_type": "execute_result"
    }
   ],
   "source": [
    "new_frontpage.groupby(\"context\")[\"context\"].count().values.max()"
   ]
  },
  {
   "cell_type": "markdown",
   "metadata": {},
   "source": [
    "### user fatigue"
   ]
  },
  {
   "cell_type": "code",
   "execution_count": 768,
   "metadata": {},
   "outputs": [],
   "source": [
    "temp = featurelize_impressions.groupby([\"environmentId\",\"date\",\"feature_name\"]).aggregate({\"feature_name\":len}).rename(columns = {\"feature_name\":\"frequency\"})"
   ]
  },
  {
   "cell_type": "code",
   "execution_count": 769,
   "metadata": {
    "collapsed": true
   },
   "outputs": [],
   "source": [
    "temp = temp.reset_index()"
   ]
  },
  {
   "cell_type": "code",
   "execution_count": 770,
   "metadata": {},
   "outputs": [
    {
     "data": {
      "text/plain": [
       "5.2305491990846678"
      ]
     },
     "execution_count": 770,
     "metadata": {},
     "output_type": "execute_result"
    }
   ],
   "source": [
    "temp.groupby([\"environmentId\",\"date\"])[\"frequency\"].max().values.mean()"
   ]
  },
  {
   "cell_type": "code",
   "execution_count": null,
   "metadata": {
    "collapsed": true
   },
   "outputs": [],
   "source": []
  }
 ],
 "metadata": {
  "anaconda-cloud": {},
  "kernelspec": {
   "display_name": "Python [default]",
   "language": "python",
   "name": "python3"
  },
  "language_info": {
   "codemirror_mode": {
    "name": "ipython",
    "version": 3
   },
   "file_extension": ".py",
   "mimetype": "text/x-python",
   "name": "python",
   "nbconvert_exporter": "python",
   "pygments_lexer": "ipython3",
   "version": "3.5.2"
  }
 },
 "nbformat": 4,
 "nbformat_minor": 2
}
